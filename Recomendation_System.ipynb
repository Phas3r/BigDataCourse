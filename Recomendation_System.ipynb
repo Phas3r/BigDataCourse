{
 "cells": [
  {
   "cell_type": "code",
   "execution_count": 16,
   "metadata": {
    "collapsed": false
   },
   "outputs": [
    {
     "name": "stdout",
     "output_type": "stream",
     "text": [
      "Wall time: 3 ms\n"
     ]
    }
   ],
   "source": [
    "\n",
    "from pyspark import SparkContext\n",
    "from pyspark.sql import SparkSession\n",
    "import pandas as pd\n",
    "import numpy as np\n",
    "import matplotlib.pyplot as plt\n",
    "\n",
    "%time  ss = SparkSession.builder \\\n",
    "     .master(\"local\") \\\n",
    "     .appName(\"Recommender System\") \\\n",
    "     .getOrCreate()"
   ]
  },
  {
   "cell_type": "code",
   "execution_count": 17,
   "metadata": {
    "collapsed": false
   },
   "outputs": [
    {
     "name": "stdout",
     "output_type": "stream",
     "text": [
      "(1149780, 3)\n"
     ]
    }
   ],
   "source": [
    "rating_pd_dataframe = pd.read_csv(\"./BX-Book-Ratings.csv\", sep=';', error_bad_lines=False, encoding=\"latin-1\")\n",
    "rating_pd_dataframe.columns = ['userID', 'ISBN', 'bookRating']\n",
    "print(rating_pd_dataframe.shape)\n",
    "ratings = ss.createDataFrame(rating_pd_dataframe)\n"
   ]
  },
  {
   "cell_type": "code",
   "execution_count": 18,
   "metadata": {
    "collapsed": false
   },
   "outputs": [
    {
     "data": {
      "text/plain": [
       "[Row(userID=276725, ISBN='034545104X', bookRating=0),\n",
       " Row(userID=276726, ISBN='0155061224', bookRating=5),\n",
       " Row(userID=276727, ISBN='0446520802', bookRating=0),\n",
       " Row(userID=276729, ISBN='052165615X', bookRating=3),\n",
       " Row(userID=276729, ISBN='0521795028', bookRating=6)]"
      ]
     },
     "execution_count": 18,
     "metadata": {},
     "output_type": "execute_result"
    }
   ],
   "source": [
    "ratings.head(5)"
   ]
  },
  {
   "cell_type": "code",
   "execution_count": 19,
   "metadata": {
    "collapsed": true
   },
   "outputs": [],
   "source": [
    "ratings_count = ratings.groupBy('bookRating').count().collect()"
   ]
  },
  {
   "cell_type": "code",
   "execution_count": 20,
   "metadata": {
    "collapsed": false,
    "scrolled": true
   },
   "outputs": [
    {
     "data": {
      "image/png": "[encoded data removed]",
      "text/plain": [
       "<matplotlib.figure.Figure at 0x252d1dd8c18>"
      ]
     },
     "metadata": {},
     "output_type": "display_data"
    }
   ],
   "source": [
    "plt.rc(\"font\", size=15)\n",
    "plt.bar(np.arange(11), [x['count'] for x in sorted(ratings_count,key=lambda x : x['bookRating'])])\n",
    "plt.title('Rating Distribution\\n')\n",
    "plt.xlabel('Rating')\n",
    "plt.ylabel('Count')\n",
    "plt.show()"
   ]
  },
  {
   "cell_type": "code",
   "execution_count": 21,
   "metadata": {
    "collapsed": false
   },
   "outputs": [
    {
     "data": {
      "text/plain": [
       "[Row(bookRating=0, count=716109),\n",
       " Row(bookRating=1, count=1770),\n",
       " Row(bookRating=2, count=2759),\n",
       " Row(bookRating=3, count=5996),\n",
       " Row(bookRating=4, count=8904),\n",
       " Row(bookRating=5, count=50974),\n",
       " Row(bookRating=6, count=36924),\n",
       " Row(bookRating=7, count=76457),\n",
       " Row(bookRating=8, count=103736),\n",
       " Row(bookRating=9, count=67541),\n",
       " Row(bookRating=10, count=78610)]"
      ]
     },
     "execution_count": 21,
     "metadata": {},
     "output_type": "execute_result"
    }
   ],
   "source": [
    "sorted(ratings_count,key=lambda x : x['bookRating'])"
   ]
  },
  {
   "cell_type": "code",
   "execution_count": 22,
   "metadata": {
    "collapsed": false
   },
   "outputs": [
    {
     "name": "stderr",
     "output_type": "stream",
     "text": [
      "b'Skipping line 6452: expected 8 fields, saw 9\\nSkipping line 43667: expected 8 fields, saw 10\\nSkipping line 51751: expected 8 fields, saw 9\\n'\n",
      "b'Skipping line 92038: expected 8 fields, saw 9\\nSkipping line 104319: expected 8 fields, saw 9\\nSkipping line 121768: expected 8 fields, saw 9\\n'\n",
      "b'Skipping line 144058: expected 8 fields, saw 9\\nSkipping line 150789: expected 8 fields, saw 9\\nSkipping line 157128: expected 8 fields, saw 9\\nSkipping line 180189: expected 8 fields, saw 9\\nSkipping line 185738: expected 8 fields, saw 9\\n'\n",
      "b'Skipping line 209388: expected 8 fields, saw 9\\nSkipping line 220626: expected 8 fields, saw 9\\nSkipping line 227933: expected 8 fields, saw 11\\nSkipping line 228957: expected 8 fields, saw 10\\nSkipping line 245933: expected 8 fields, saw 9\\nSkipping line 251296: expected 8 fields, saw 9\\nSkipping line 259941: expected 8 fields, saw 9\\nSkipping line 261529: expected 8 fields, saw 9\\n'\n",
      "C:\\Program Files\\Anaconda3\\lib\\site-packages\\IPython\\core\\interactiveshell.py:2717: DtypeWarning: Columns (3) have mixed types. Specify dtype option on import or set low_memory=False.\n",
      "  interactivity=interactivity, compiler=compiler, result=result)\n"
     ]
    },
    {
     "name": "stdout",
     "output_type": "stream",
     "text": [
      "(271360, 8)\n",
      "ISBN                 271360\n",
      "bookTitle            271360\n",
      "bookAuthor           271360\n",
      "yearOfPublication    271360\n",
      "publisher            271358\n",
      "imageUrlS            271360\n",
      "imageUrlM            271360\n",
      "imageUrlL            271357\n",
      "dtype: int64\n"
     ]
    }
   ],
   "source": [
    "books_pd_dataframe = pd.read_csv(\"./BX-Books.csv\", sep=';', error_bad_lines=False, encoding=\"latin-1\")\n",
    "books_pd_dataframe.columns = ['ISBN', 'bookTitle', 'bookAuthor', 'yearOfPublication', 'publisher', 'imageUrlS', 'imageUrlM', 'imageUrlL']\n",
    "print(books_pd_dataframe.shape)\n",
    "print(books_pd_dataframe.count())"
   ]
  },
  {
   "cell_type": "code",
   "execution_count": 23,
   "metadata": {
    "collapsed": true
   },
   "outputs": [],
   "source": [
    "from pyspark.sql.types import *\n",
    "field_list = [StructField(x,StringType()) for x in books_pd_dataframe.columns]\n",
    "schema = StructType(field_list)"
   ]
  },
  {
   "cell_type": "code",
   "execution_count": 24,
   "metadata": {
    "collapsed": false
   },
   "outputs": [
    {
     "name": "stdout",
     "output_type": "stream",
     "text": [
      "271360\n"
     ]
    }
   ],
   "source": [
    "books = ss.createDataFrame(books_pd_dataframe, schema)\n",
    "print(books.count())"
   ]
  },
  {
   "cell_type": "code",
   "execution_count": 25,
   "metadata": {
    "collapsed": false
   },
   "outputs": [
    {
     "data": {
      "text/plain": [
       "[Row(ISBN='0195153448', bookTitle='Classical Mythology', bookAuthor='Mark P. O. Morford', yearOfPublication='2002', publisher='Oxford University Press', imageUrlS='http://images.amazon.com/images/P/0195153448.01.THUMBZZZ.jpg', imageUrlM='http://images.amazon.com/images/P/0195153448.01.MZZZZZZZ.jpg', imageUrlL='http://images.amazon.com/images/P/0195153448.01.LZZZZZZZ.jpg'),\n",
       " Row(ISBN='0002005018', bookTitle='Clara Callan', bookAuthor='Richard Bruce Wright', yearOfPublication='2001', publisher='HarperFlamingo Canada', imageUrlS='http://images.amazon.com/images/P/0002005018.01.THUMBZZZ.jpg', imageUrlM='http://images.amazon.com/images/P/0002005018.01.MZZZZZZZ.jpg', imageUrlL='http://images.amazon.com/images/P/0002005018.01.LZZZZZZZ.jpg'),\n",
       " Row(ISBN='0060973129', bookTitle='Decision in Normandy', bookAuthor=\"Carlo D'Este\", yearOfPublication='1991', publisher='HarperPerennial', imageUrlS='http://images.amazon.com/images/P/0060973129.01.THUMBZZZ.jpg', imageUrlM='http://images.amazon.com/images/P/0060973129.01.MZZZZZZZ.jpg', imageUrlL='http://images.amazon.com/images/P/0060973129.01.LZZZZZZZ.jpg'),\n",
       " Row(ISBN='0374157065', bookTitle='Flu: The Story of the Great Influenza Pandemic of 1918 and the Search for the Virus That Caused It', bookAuthor='Gina Bari Kolata', yearOfPublication='1999', publisher='Farrar Straus Giroux', imageUrlS='http://images.amazon.com/images/P/0374157065.01.THUMBZZZ.jpg', imageUrlM='http://images.amazon.com/images/P/0374157065.01.MZZZZZZZ.jpg', imageUrlL='http://images.amazon.com/images/P/0374157065.01.LZZZZZZZ.jpg'),\n",
       " Row(ISBN='0393045218', bookTitle='The Mummies of Urumchi', bookAuthor='E. J. W. Barber', yearOfPublication='1999', publisher='W. W. Norton &amp; Company', imageUrlS='http://images.amazon.com/images/P/0393045218.01.THUMBZZZ.jpg', imageUrlM='http://images.amazon.com/images/P/0393045218.01.MZZZZZZZ.jpg', imageUrlL='http://images.amazon.com/images/P/0393045218.01.LZZZZZZZ.jpg')]"
      ]
     },
     "execution_count": 25,
     "metadata": {},
     "output_type": "execute_result"
    }
   ],
   "source": [
    "books.head(5)"
   ]
  },
  {
   "cell_type": "code",
   "execution_count": 26,
   "metadata": {
    "collapsed": false
   },
   "outputs": [
    {
     "name": "stdout",
     "output_type": "stream",
     "text": [
      "(278858, 3)\n"
     ]
    }
   ],
   "source": [
    "users_pd_dataframe = pd.read_csv('BX-Users.csv', sep=';', error_bad_lines=False, encoding=\"latin-1\")\n",
    "users_pd_dataframe.columns = ['userID', 'Location', 'Age']\n",
    "print(users_pd_dataframe.shape)"
   ]
  },
  {
   "cell_type": "code",
   "execution_count": 27,
   "metadata": {
    "collapsed": true
   },
   "outputs": [],
   "source": [
    "users = ss.createDataFrame(users_pd_dataframe)"
   ]
  },
  {
   "cell_type": "code",
   "execution_count": 28,
   "metadata": {
    "collapsed": false
   },
   "outputs": [
    {
     "data": {
      "text/plain": [
       "[Row(userID=1, Location='nyc, new york, usa', Age=nan),\n",
       " Row(userID=2, Location='stockton, california, usa', Age=18.0),\n",
       " Row(userID=3, Location='moscow, yukon territory, russia', Age=nan),\n",
       " Row(userID=4, Location='porto, v.n.gaia, portugal', Age=17.0),\n",
       " Row(userID=5, Location='farnborough, hants, united kingdom', Age=nan)]"
      ]
     },
     "execution_count": 28,
     "metadata": {},
     "output_type": "execute_result"
    }
   ],
   "source": [
    "users.head(5)"
   ]
  },
  {
   "cell_type": "code",
   "execution_count": 29,
   "metadata": {
    "collapsed": false
   },
   "outputs": [
    {
     "data": {
      "image/png": "[encoded data removed]",
      "text/plain": [
       "<matplotlib.figure.Figure at 0x252d4ff6b70>"
      ]
     },
     "metadata": {},
     "output_type": "display_data"
    }
   ],
   "source": [
    "import math\n",
    "\n",
    "plt.hist([x['Age'] for x in users.collect() if not math.isnan(x['Age'])], bins=np.arange(101, step=10))\n",
    "plt.title('Age Distribution\\n')\n",
    "plt.xlabel('Age')\n",
    "plt.ylabel('Count')\n",
    "plt.show()"
   ]
  },
  {
   "cell_type": "code",
   "execution_count": 30,
   "metadata": {
    "collapsed": true
   },
   "outputs": [],
   "source": [
    "ratings_count = sorted(ratings.groupby('ISBN').agg({\"*\": \"count\", \"bookRating\": \"avg\"}).collect(),key=lambda x : x['count(1)'], reverse=True)"
   ]
  },
  {
   "cell_type": "code",
   "execution_count": 31,
   "metadata": {
    "collapsed": false
   },
   "outputs": [
    {
     "data": {
      "text/plain": [
       "[Row(ISBN='0971880107', avg(bookRating)=1.0195843325339728, count(1)=2502),\n",
       " Row(ISBN='0316666343', avg(bookRating)=4.468725868725869, count(1)=1295),\n",
       " Row(ISBN='0385504209', avg(bookRating)=4.652321630804077, count(1)=883),\n",
       " Row(ISBN='0060928336', avg(bookRating)=3.448087431693989, count(1)=732),\n",
       " Row(ISBN='0312195516', avg(bookRating)=4.334716459197787, count(1)=723)]"
      ]
     },
     "execution_count": 31,
     "metadata": {},
     "output_type": "execute_result"
    }
   ],
   "source": [
    "ratings_count[0:5]"
   ]
  },
  {
   "cell_type": "code",
   "execution_count": 32,
   "metadata": {
    "collapsed": true
   },
   "outputs": [],
   "source": [
    "most_rated_books_isbn = ['0971880107', '0316666343', '0385504209', '0060928336', '0312195516']\n",
    "most_rated_books = books.filter(books['ISBN'].isin(most_rated_books_isbn))"
   ]
  },
  {
   "cell_type": "code",
   "execution_count": 33,
   "metadata": {
    "collapsed": false
   },
   "outputs": [
    {
     "data": {
      "text/plain": [
       "[Row(ISBN='0971880107', bookTitle='Wild Animus', bookAuthor='Rich Shapero', yearOfPublication='2004', publisher='Too Far', imageUrlS='http://images.amazon.com/images/P/0971880107.01.THUMBZZZ.jpg', imageUrlM='http://images.amazon.com/images/P/0971880107.01.MZZZZZZZ.jpg', imageUrlL='http://images.amazon.com/images/P/0971880107.01.LZZZZZZZ.jpg'),\n",
       " Row(ISBN='0316666343', bookTitle='The Lovely Bones: A Novel', bookAuthor='Alice Sebold', yearOfPublication='2002', publisher='Little, Brown', imageUrlS='http://images.amazon.com/images/P/0316666343.01.THUMBZZZ.jpg', imageUrlM='http://images.amazon.com/images/P/0316666343.01.MZZZZZZZ.jpg', imageUrlL='http://images.amazon.com/images/P/0316666343.01.LZZZZZZZ.jpg'),\n",
       " Row(ISBN='0312195516', bookTitle='The Red Tent (Bestselling Backlist)', bookAuthor='Anita Diamant', yearOfPublication='1998', publisher='Picador USA', imageUrlS='http://images.amazon.com/images/P/0312195516.01.THUMBZZZ.jpg', imageUrlM='http://images.amazon.com/images/P/0312195516.01.MZZZZZZZ.jpg', imageUrlL='http://images.amazon.com/images/P/0312195516.01.LZZZZZZZ.jpg'),\n",
       " Row(ISBN='0385504209', bookTitle='The Da Vinci Code', bookAuthor='Dan Brown', yearOfPublication='2003', publisher='Doubleday', imageUrlS='http://images.amazon.com/images/P/0385504209.01.THUMBZZZ.jpg', imageUrlM='http://images.amazon.com/images/P/0385504209.01.MZZZZZZZ.jpg', imageUrlL='http://images.amazon.com/images/P/0385504209.01.LZZZZZZZ.jpg'),\n",
       " Row(ISBN='0060928336', bookTitle='Divine Secrets of the Ya-Ya Sisterhood: A Novel', bookAuthor='Rebecca Wells', yearOfPublication='1997', publisher='Perennial', imageUrlS='http://images.amazon.com/images/P/0060928336.01.THUMBZZZ.jpg', imageUrlM='http://images.amazon.com/images/P/0060928336.01.MZZZZZZZ.jpg', imageUrlL='http://images.amazon.com/images/P/0060928336.01.LZZZZZZZ.jpg')]"
      ]
     },
     "execution_count": 33,
     "metadata": {},
     "output_type": "execute_result"
    }
   ],
   "source": [
    "most_rated_books.take(5)"
   ]
  },
  {
   "cell_type": "code",
   "execution_count": 34,
   "metadata": {
    "collapsed": false
   },
   "outputs": [
    {
     "name": "stdout",
     "output_type": "stream",
     "text": [
      "105283\n",
      "905\n"
     ]
    },
    {
     "data": {
      "text/plain": [
       "[Row(userID=62895, count=301),\n",
       " Row(userID=222204, count=222),\n",
       " Row(userID=30276, count=667),\n",
       " Row(userID=84024, count=374),\n",
       " Row(userID=133747, count=677)]"
      ]
     },
     "execution_count": 34,
     "metadata": {},
     "output_type": "execute_result"
    }
   ],
   "source": [
    "active_users = ratings.groupby('userID').count()\n",
    "print(active_users.count())\n",
    "active_users = active_users.filter(active_users['count'] >= 200)\n",
    "print(active_users.count())\n",
    "active_users.take(5)"
   ]
  },
  {
   "cell_type": "code",
   "execution_count": 35,
   "metadata": {
    "collapsed": false
   },
   "outputs": [
    {
     "name": "stdout",
     "output_type": "stream",
     "text": [
      "340556\n",
      "731\n"
     ]
    },
    {
     "data": {
      "text/plain": [
       "[Row(ISBN='0767905385', count=143),\n",
       " Row(ISBN='0553581554', count=124),\n",
       " Row(ISBN='0842329129', count=297),\n",
       " Row(ISBN='0670865796', count=139),\n",
       " Row(ISBN='0515135739', count=102)]"
      ]
     },
     "execution_count": 35,
     "metadata": {},
     "output_type": "execute_result"
    }
   ],
   "source": [
    "popular_books = ratings.groupby('ISBN').count()\n",
    "print(popular_books.count())\n",
    "popular_books = popular_books.filter(popular_books['count'] >= 100)\n",
    "print(popular_books.count())\n",
    "popular_books.take(5)"
   ]
  },
  {
   "cell_type": "code",
   "execution_count": 36,
   "metadata": {
    "collapsed": false
   },
   "outputs": [
    {
     "name": "stdout",
     "output_type": "stream",
     "text": [
      "1149780\n",
      "527556\n"
     ]
    }
   ],
   "source": [
    "print(ratings.count())\n",
    "ratings = ratings.filter(ratings['userID'].isin([x['userID'] for x in active_users.collect()]))\n",
    "print(ratings.count())"
   ]
  },
  {
   "cell_type": "code",
   "execution_count": 37,
   "metadata": {
    "collapsed": false
   },
   "outputs": [
    {
     "name": "stdout",
     "output_type": "stream",
     "text": [
      "527556\n",
      "49781\n"
     ]
    }
   ],
   "source": [
    "print(ratings.count())\n",
    "ratings = ratings.filter(ratings['ISBN'].isin([x['ISBN'] for x in popular_books.collect()]))\n",
    "print(ratings.count())"
   ]
  },
  {
   "cell_type": "code",
   "execution_count": 39,
   "metadata": {
    "collapsed": true
   },
   "outputs": [],
   "source": [
    "ratings_pivot = ratings.groupby('userID').pivot('ISBN').max('bookRating')"
   ]
  },
  {
   "cell_type": "code",
   "execution_count": 40,
   "metadata": {
    "collapsed": false
   },
   "outputs": [
    {
     "data": {
      "text/plain": [
       "732"
      ]
     },
     "execution_count": 40,
     "metadata": {},
     "output_type": "execute_result"
    }
   ],
   "source": [
    "len(ratings_pivot.columns)"
   ]
  },
  {
   "cell_type": "code",
   "execution_count": 41,
   "metadata": {
    "collapsed": false
   },
   "outputs": [
    {
     "name": "stdout",
     "output_type": "stream",
     "text": [
      "Wall time: 17.2 s\n"
     ]
    },
    {
     "data": {
      "text/plain": [
       "0.17186321371594054"
      ]
     },
     "execution_count": 41,
     "metadata": {},
     "output_type": "execute_result"
    }
   ],
   "source": [
    "%time ratings_pivot.corr('0316666343', '0316601950')"
   ]
  },
  {
   "cell_type": "code",
   "execution_count": 42,
   "metadata": {
    "collapsed": true
   },
   "outputs": [],
   "source": [
    "bones_ratings = [ratings_pivot.corr('0316666343', x) for x in ratings_pivot.columns]"
   ]
  },
  {
   "cell_type": "code",
   "execution_count": 74,
   "metadata": {
    "collapsed": false
   },
   "outputs": [
    {
     "name": "stdout",
     "output_type": "stream",
     "text": [
      "[0.17164978415283227, 0.17186321371594054, 0.18178384458348043, 0.18413719114093033, 0.18776362977349673, 0.19746988972317406, 0.20073362794989652, 0.20105055476618028, 0.21304045116973538]\n"
     ]
    }
   ],
   "source": [
    "buf = sorted(bones_ratings)[-10:-1]\n",
    "print(buf)"
   ]
  },
  {
   "cell_type": "code",
   "execution_count": 75,
   "metadata": {
    "collapsed": true
   },
   "outputs": [],
   "source": [
    "bones_ratings_backup = bones_ratings.copy()"
   ]
  },
  {
   "cell_type": "code",
   "execution_count": 76,
   "metadata": {
    "collapsed": false
   },
   "outputs": [],
   "source": [
    "most_correlated = list()\n",
    "for elem in buf:\n",
    "    most_correlated.append(ratings_pivot.columns[bones_ratings.index(elem)])"
   ]
  },
  {
   "cell_type": "code",
   "execution_count": 77,
   "metadata": {
    "collapsed": false
   },
   "outputs": [
    {
     "data": {
      "text/plain": [
       "['0316096199',\n",
       " '0316601950',\n",
       " '0375412824',\n",
       " '0446531332',\n",
       " '0345439104',\n",
       " '0385265700',\n",
       " '0743203631',\n",
       " '0767915054',\n",
       " '0446672211']"
      ]
     },
     "execution_count": 77,
     "metadata": {},
     "output_type": "execute_result"
    }
   ],
   "source": [
    "most_correlated"
   ]
  },
  {
   "cell_type": "code",
   "execution_count": null,
   "metadata": {
    "collapsed": true
   },
   "outputs": [],
   "source": []
  },
  {
   "cell_type": "code",
   "execution_count": 78,
   "metadata": {
    "collapsed": true
   },
   "outputs": [],
   "source": [
    "corr_books = ['0312291639', '0316601950', '0446610038', '0446672211', '0385265700', '0345342968', '0060930535', '0375707972', '0684872153']\n",
    "similar_books = books.filter(books['ISBN'].isin(corr_books))"
   ]
  },
  {
   "cell_type": "code",
   "execution_count": 79,
   "metadata": {
    "collapsed": false
   },
   "outputs": [
    {
     "name": "stdout",
     "output_type": "stream",
     "text": [
      "(888, 732)\n"
     ]
    }
   ],
   "source": [
    "print((ratings_pivot.count(), len(ratings_pivot.columns)))"
   ]
  },
  {
   "cell_type": "markdown",
   "metadata": {},
   "source": [
    "# Книги с наибольшими корреляциями по рейтингам пользователей (из статьи на medium.com)"
   ]
  },
  {
   "cell_type": "code",
   "execution_count": 80,
   "metadata": {
    "collapsed": false
   },
   "outputs": [
    {
     "name": "stdout",
     "output_type": "stream",
     "text": [
      "+----------+--------------------+------------------+-----------------+--------------------+--------------------+--------------------+--------------------+\n",
      "|      ISBN|           bookTitle|        bookAuthor|yearOfPublication|           publisher|           imageUrlS|           imageUrlM|           imageUrlL|\n",
      "+----------+--------------------+------------------+-----------------+--------------------+--------------------+--------------------+--------------------+\n",
      "|0446672211|Where the Heart I...|      Billie Letts|             1998|        Warner Books|http://images.ama...|http://images.ama...|http://images.ama...|\n",
      "|0060930535|The Poisonwood Bi...|Barbara Kingsolver|             1999|           Perennial|http://images.ama...|http://images.ama...|http://images.ama...|\n",
      "|0375707972|          The Reader|  Bernhard Schlink|             1999|   Vintage Books USA|http://images.ama...|http://images.ama...|http://images.ama...|\n",
      "|0446610038| 1st to Die: A Novel|   James Patterson|             2002|       Warner Vision|http://images.ama...|http://images.ama...|http://images.ama...|\n",
      "|0345342968|      Fahrenheit 451|      RAY BRADBURY|             1987|             Del Rey|http://images.ama...|http://images.ama...|http://images.ama...|\n",
      "|0385265700|The Book of Ruth ...|     Jane Hamilton|             1990|              Anchor|http://images.ama...|http://images.ama...|http://images.ama...|\n",
      "|0312291639|The Nanny Diaries...|   Emma McLaughlin|             2003|St. Martin's Griffin|http://images.ama...|http://images.ama...|http://images.ama...|\n",
      "|0684872153|Angela's Ashes (M...|     Frank McCourt|             1999|            Scribner|http://images.ama...|http://images.ama...|http://images.ama...|\n",
      "|0316601950|The Pilot's Wife ...|      Anita Shreve|             1999|      Back Bay Books|http://images.ama...|http://images.ama...|http://images.ama...|\n",
      "+----------+--------------------+------------------+-----------------+--------------------+--------------------+--------------------+--------------------+\n",
      "\n"
     ]
    }
   ],
   "source": [
    "similar_books.show()"
   ]
  },
  {
   "cell_type": "code",
   "execution_count": 81,
   "metadata": {
    "collapsed": true
   },
   "outputs": [],
   "source": [
    "similar_books = books.filter(books['ISBN'].isin(most_correlated))"
   ]
  },
  {
   "cell_type": "markdown",
   "metadata": {},
   "source": [
    "# Книги с наибольшими корреляциями по рейтингам пользователей (с помощью Spark)"
   ]
  },
  {
   "cell_type": "code",
   "execution_count": 82,
   "metadata": {
    "collapsed": false
   },
   "outputs": [
    {
     "name": "stdout",
     "output_type": "stream",
     "text": [
      "+----------+--------------------+-----------------+-----------------+----------------+--------------------+--------------------+--------------------+\n",
      "|      ISBN|           bookTitle|       bookAuthor|yearOfPublication|       publisher|           imageUrlS|           imageUrlM|           imageUrlL|\n",
      "+----------+--------------------+-----------------+-----------------+----------------+--------------------+--------------------+--------------------+\n",
      "|0446672211|Where the Heart I...|     Billie Letts|             1998|    Warner Books|http://images.ama...|http://images.ama...|http://images.ama...|\n",
      "|0446531332|  Nights in Rodanthe|  Nicholas Sparks|             2002|    Warner Books|http://images.ama...|http://images.ama...|http://images.ama...|\n",
      "|0385265700|The Book of Ruth ...|    Jane Hamilton|             1990|          Anchor|http://images.ama...|http://images.ama...|http://images.ama...|\n",
      "|0375412824|The Dive From Cla...|       ANN PACKER|             2002|           Knopf|http://images.ama...|http://images.ama...|http://images.ama...|\n",
      "|0316096199|    Lucky : A Memoir|     Alice Sebold|             2002|  Back Bay Books|http://images.ama...|http://images.ama...|http://images.ama...|\n",
      "|0316601950|The Pilot's Wife ...|     Anita Shreve|             1999|  Back Bay Books|http://images.ama...|http://images.ama...|http://images.ama...|\n",
      "|0345439104|Drowning Ruth (Op...|CHRISTINA SCHWARZ|             2001|Ballantine Books|http://images.ama...|http://images.ama...|http://images.ama...|\n",
      "|0767915054|A Girl Named Zipp...|     HAVEN KIMMEL|             2002|  Broadway Books|http://images.ama...|http://images.ama...|http://images.ama...|\n",
      "|0743203631|Gap Creek: The St...|    Robert Morgan|             2000|      Touchstone|http://images.ama...|http://images.ama...|http://images.ama...|\n",
      "+----------+--------------------+-----------------+-----------------+----------------+--------------------+--------------------+--------------------+\n",
      "\n"
     ]
    }
   ],
   "source": [
    "similar_books.show()"
   ]
  },
  {
   "cell_type": "code",
   "execution_count": null,
   "metadata": {
    "collapsed": true
   },
   "outputs": [],
   "source": []
  }
 ],
 "metadata": {
  "anaconda-cloud": {},
  "kernelspec": {
   "display_name": "Python [default]",
   "language": "python",
   "name": "python3"
  }
 },
 "nbformat": 4,
 "nbformat_minor": 2
}
